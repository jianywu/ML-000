{
  "nbformat": 4,
  "nbformat_minor": 0,
  "metadata": {
    "kernelspec": {
      "display_name": "Python 3",
      "language": "python",
      "name": "python3"
    },
    "language_info": {
      "codemirror_mode": {
        "name": "ipython",
        "version": 3
      },
      "file_extension": ".py",
      "mimetype": "text/x-python",
      "name": "python",
      "nbconvert_exporter": "python",
      "pygments_lexer": "ipython3",
      "version": "3.7.4"
    },
    "colab": {
      "name": "cython_work.ipynb",
      "provenance": [],
      "collapsed_sections": []
    }
  },
  "cells": [
    {
      "cell_type": "markdown",
      "metadata": {
        "id": "oqHfkaenvEML"
      },
      "source": [
        "# Cython homework\n",
        "\n",
        "Check how fast cython can be."
      ]
    },
    {
      "cell_type": "code",
      "metadata": {
        "id": "5y4srRKpvEMV",
        "colab": {
          "base_uri": "https://localhost:8080/"
        },
        "outputId": "66b29815-f1ef-49fc-b66f-2218b496d4cc"
      },
      "source": [
        "%load_ext Cython"
      ],
      "execution_count": 33,
      "outputs": [
        {
          "output_type": "stream",
          "text": [
            "The Cython extension is already loaded. To reload it, use:\n",
            "  %reload_ext Cython\n"
          ],
          "name": "stdout"
        }
      ]
    },
    {
      "cell_type": "code",
      "metadata": {
        "colab": {
          "base_uri": "https://localhost:8080/"
        },
        "id": "9w3OEMXWA-qt",
        "outputId": "307d5fb2-ee96-4e0f-a36d-92ce1257280d"
      },
      "source": [
        "import numpy as np\r\n",
        "import pandas as pd\r\n",
        "\r\n",
        "y = np.random.randint(2, size=(5000, 1))\r\n",
        "x = np.random.randint(10, size=(5000, 1))\r\n",
        "data = pd.DataFrame(np.concatenate([y, x], axis=1), columns=['y', 'x'])\r\n",
        "print(data)"
      ],
      "execution_count": 34,
      "outputs": [
        {
          "output_type": "stream",
          "text": [
            "      y  x\n",
            "0     0  7\n",
            "1     1  6\n",
            "2     1  0\n",
            "3     1  8\n",
            "4     1  8\n",
            "...  .. ..\n",
            "4995  0  1\n",
            "4996  1  0\n",
            "4997  0  6\n",
            "4998  1  7\n",
            "4999  1  8\n",
            "\n",
            "[5000 rows x 2 columns]\n"
          ],
          "name": "stdout"
        }
      ]
    },
    {
      "cell_type": "code",
      "metadata": {
        "id": "CPcjFSv5vEMY"
      },
      "source": [
        "def target_mean_v1(data, y_name, x_name):\n",
        "    result = np.zeros(data.shape[0])\n",
        "    for i in range(data.shape[0]):\n",
        "        groupby_result = data[data.index != i].groupby([x_name], as_index=False).agg(['mean', 'count'])\n",
        "        result[i] = groupby_result.loc[groupby_result.index == data.loc[i, x_name], (y_name, 'mean')]\n",
        "    return result"
      ],
      "execution_count": 35,
      "outputs": []
    },
    {
      "cell_type": "code",
      "metadata": {
        "id": "LILLqDcUrS8U"
      },
      "source": [
        "def target_mean_v2(data, y_name, x_name):\r\n",
        "    result = np.zeros(data.shape[0])\r\n",
        "    value_dict = dict()\r\n",
        "    count_dict = dict()\r\n",
        "    for i in range(data.shape[0]):\r\n",
        "        if data.loc[i, x_name] not in value_dict.keys():\r\n",
        "            value_dict[data.loc[i, x_name]] = data.loc[i, y_name]\r\n",
        "            count_dict[data.loc[i, x_name]] = 1\r\n",
        "        else:\r\n",
        "            value_dict[data.loc[i, x_name]] += data.loc[i, y_name]\r\n",
        "            count_dict[data.loc[i, x_name]] += 1\r\n",
        "    for i in range(data.shape[0]):\r\n",
        "        result[i] = (value_dict[data.loc[i, x_name]] - data.loc[i, y_name]) / (count_dict[data.loc[i, x_name]] - 1)\r\n",
        "    return result"
      ],
      "execution_count": 36,
      "outputs": []
    },
    {
      "cell_type": "code",
      "metadata": {
        "id": "Hx6b1LbE9GJd"
      },
      "source": [
        "%%cython\r\n",
        "import timeit\r\n",
        "import numpy as np\r\n",
        "cimport numpy as cnp\r\n",
        "cimport cython\r\n",
        "from cython.parallel import prange\r\n",
        "\r\n",
        "@cython.boundscheck(False)\r\n",
        "@cython.wraparound(False)\r\n",
        "cpdef target_mean_v3(data, str y_name, str x_name):\r\n",
        "    cdef int data_len = data.shape[0]\r\n",
        "    cdef double[:] result = np.zeros(data_len)\r\n",
        "    cdef long[:] x_data = data[x_name].values\r\n",
        "    cdef long[:] y_data = data[y_name].values\r\n",
        "    cdef long[:] values = np.zeros(10).astype(long)\r\n",
        "    cdef long[:] counts = np.zeros(10).astype(long)\r\n",
        "    \r\n",
        "    cdef int i = 0\r\n",
        "    # prange() can only be used without the GIL\r\n",
        "    for i in prange(data_len, nogil=True):\r\n",
        "        values[x_data[i]] += y_data[i]\r\n",
        "        counts[x_data[i]] += 1\r\n",
        "\r\n",
        "    for i in prange(data_len, nogil=True):\r\n",
        "        result[i] = (values[x_data[i]] - y_data[i]) / (counts[x_data[i]] - 1)\r\n",
        "\r\n",
        "    return result"
      ],
      "execution_count": 37,
      "outputs": []
    },
    {
      "cell_type": "code",
      "metadata": {
        "id": "rfIfJiZtvEMZ",
        "colab": {
          "base_uri": "https://localhost:8080/"
        },
        "outputId": "166b5160-31b3-4ade-e30e-342d9ee6eb86"
      },
      "source": [
        "%%timeit\r\n",
        "result_1 = target_mean_v1(data, 'y', 'x')"
      ],
      "execution_count": 41,
      "outputs": [
        {
          "output_type": "stream",
          "text": [
            "1 loop, best of 3: 22 s per loop\n"
          ],
          "name": "stdout"
        }
      ]
    },
    {
      "cell_type": "code",
      "metadata": {
        "id": "odkgox8Zj7My",
        "colab": {
          "base_uri": "https://localhost:8080/"
        },
        "outputId": "0c589e86-f149-4ea9-a8fb-59bc6f6f10bc"
      },
      "source": [
        "%%timeit\r\n",
        "result_2 = target_mean_v2(data, 'y', 'x')"
      ],
      "execution_count": 42,
      "outputs": [
        {
          "output_type": "stream",
          "text": [
            "1 loop, best of 3: 257 ms per loop\n"
          ],
          "name": "stdout"
        }
      ]
    },
    {
      "cell_type": "code",
      "metadata": {
        "colab": {
          "base_uri": "https://localhost:8080/"
        },
        "id": "tp_g67xM9MHc",
        "outputId": "0a8715ab-0e23-4836-bf4a-da0ff2dcbbbc"
      },
      "source": [
        "%%timeit\r\n",
        "result_3 = target_mean_v3(data, 'y', 'x')"
      ],
      "execution_count": 43,
      "outputs": [
        {
          "output_type": "stream",
          "text": [
            "The slowest run took 4.89 times longer than the fastest. This could mean that an intermediate result is being cached.\n",
            "10000 loops, best of 3: 41 µs per loop\n"
          ],
          "name": "stdout"
        }
      ]
    },
    {
      "cell_type": "code",
      "metadata": {
        "colab": {
          "base_uri": "https://localhost:8080/"
        },
        "id": "5u-eDG8mj83c",
        "outputId": "aeb7ec07-f0e2-4e20-904d-e08df17def55"
      },
      "source": [
        "diff = np.linalg.norm(result_3 - result_2)\r\n",
        "print(diff)"
      ],
      "execution_count": 47,
      "outputs": [
        {
          "output_type": "stream",
          "text": [
            "0.0\n"
          ],
          "name": "stdout"
        }
      ]
    }
  ]
}